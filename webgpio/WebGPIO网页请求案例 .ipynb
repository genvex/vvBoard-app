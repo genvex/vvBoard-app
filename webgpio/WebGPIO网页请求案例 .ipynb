{
 "cells": [
  {
   "cell_type": "markdown",
   "metadata": {},
   "source": [
    "# 虚谷号和App inventor的互动控制\n",
    "\n",
    "准备工作\n",
    "\n",
    "启动webgpio.py文件。\n",
    "\n",
    "如果文件下有webgpio.py，可以直接运行。"
   ]
  },
  {
   "cell_type": "code",
   "execution_count": null,
   "metadata": {},
   "outputs": [],
   "source": [
    "%run webgpio.py"
   ]
  },
  {
   "cell_type": "markdown",
   "metadata": {},
   "source": [
    "运行成功后，请访问1024端口，即可得到提示。"
   ]
  },
  {
   "cell_type": "markdown",
   "metadata": {},
   "source": [
    "# 调用POST方法，对虚谷号上的引脚进行控制\n",
    "\n",
    "在该案例中可以修改的参数有:\n",
    "\n",
    "url:设置成虚谷号的IP地址\n",
    "\n",
    "pin:对应的引脚 A0-A5，D0-D13 \n",
    "\n",
    "value:对应的数值\n",
    "\n",
    "type:控制的类型['digital','1']['analog','2']['servo','3']"
   ]
  },
  {
   "cell_type": "markdown",
   "metadata": {},
   "source": [
    "我们可以尝试修改D13号引脚的电平，将其调整为1，该引脚附近的小灯就会亮起。"
   ]
  },
  {
   "cell_type": "code",
   "execution_count": 8,
   "metadata": {},
   "outputs": [
    {
     "name": "stdout",
     "output_type": "stream",
     "text": [
      "200\n",
      "{\n",
      "    \"Pin\": \"D13\",\n",
      "    \"error_code\": 0,\n",
      "    \"msg\": \"success,set D13 to 1 with digital mode\"\n",
      "}\n"
     ]
    }
   ],
   "source": [
    "import requests\n",
    "payload = {\"pin\":\"D13\",'value':1,'type':'Digital'}\n",
    "r = requests.post(url='http://192.168.0.110:1024/',params=payload) \n",
    "print(r.status_code)\n",
    "print(r.text) \n",
    "\n"
   ]
  },
  {
   "cell_type": "markdown",
   "metadata": {},
   "source": [
    "# 调用GET方法，读取D13号引脚的电平。\n",
    "\n",
    "注意：该方法需要外接的电子元器件，如LED灯，否则默认为低电平。"
   ]
  },
  {
   "cell_type": "code",
   "execution_count": 39,
   "metadata": {},
   "outputs": [
    {
     "name": "stdout",
     "output_type": "stream",
     "text": [
      "200\n",
      "{\n",
      "    \"Pin\": \"D13\",\n",
      "    \"error_code\": 0,\n",
      "    \"msg\": \"0\"\n",
      "}\n"
     ]
    }
   ],
   "source": [
    "import requests\n",
    "payload = {\"pin\":\"D13\"}\n",
    "r = requests.get(url='http://192.168.0.110:1024/',params=payload) \n",
    "print(r.status_code)\n",
    "print(r.text) "
   ]
  },
  {
   "cell_type": "markdown",
   "metadata": {},
   "source": [
    "想要测试与虚谷之间的连接是否通畅，可以直接调用虚谷库，使D13号引脚附近的小灯亮起。"
   ]
  },
  {
   "cell_type": "code",
   "execution_count": 4,
   "metadata": {},
   "outputs": [
    {
     "name": "stdout",
     "output_type": "stream",
     "text": [
      "0\n"
     ]
    }
   ],
   "source": [
    "import xugu\n",
    "pin=13\n",
    "xugu_pin=xugu.Pin(pin,xugu.Pin.OUT)\n",
    "xugu_pin.write_digital(1)"
   ]
  },
  {
   "cell_type": "code",
   "execution_count": null,
   "metadata": {},
   "outputs": [],
   "source": []
  }
 ],
 "metadata": {
  "kernelspec": {
   "display_name": "Python 3",
   "language": "python",
   "name": "python3"
  },
  "language_info": {
   "codemirror_mode": {
    "name": "ipython",
    "version": 3
   },
   "file_extension": ".py",
   "mimetype": "text/x-python",
   "name": "python",
   "nbconvert_exporter": "python",
   "pygments_lexer": "ipython3",
   "version": "3.5.2"
  }
 },
 "nbformat": 4,
 "nbformat_minor": 2
}
